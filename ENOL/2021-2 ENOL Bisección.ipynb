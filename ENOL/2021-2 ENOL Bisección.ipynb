{
 "cells": [
  {
   "cell_type": "markdown",
   "id": "b2dd03c7",
   "metadata": {},
   "source": [
    "## Ejercicio para resolver - Bisección\n",
    "Obtener la raiz de la siguiente función:<br>\n",
    "$$\n",
    "f(x) = sen(x)-e^{(-x/2)}+1\n",
    "$$\n",
    "En el intervalo [-1, 4], con una tolerancia de 10^(-3)<br>\n",
    "**Presentación:** Presentar las primeras 3 iteraciones en una hoja a mano y el desarrollo completo en Jupyter Notebook."
   ]
  },
  {
   "cell_type": "code",
   "execution_count": 85,
   "id": "3ae26ce6",
   "metadata": {},
   "outputs": [],
   "source": [
    "# Pasos La funcion debe ser continua en el intervalo\n",
    "# Es un metodo de arranque, luego hay que usar uno de refinamiento.\n",
    "# 1 - Tomar las cotas a y b y dividrlas por 2 para encontrar pto medio x0\n",
    "# 2 - Definir la tolerancia. No aclara, el metodo de corte con error relativo o abosulto con modulo.\n",
    "#     Podria utiizar el corte por error absouluto abs(x_n+1 - x_n / x_n) / x_n <= tolerancia\n",
    "#     \n",
    "# 3 - Verificar si f(x0) = 0 \n",
    "# 4 - si f(a) * f(x0) > 0 entonces la raiz esta en [x0, b] si no en [a, x0]\n",
    "# 5 - Veo el criterio de corte.\n",
    "\n",
    "import numpy as np\n",
    "import pandas as pd\n",
    "import matplotlib.pyplot as plt"
   ]
  },
  {
   "cell_type": "code",
   "execution_count": 78,
   "id": "cf693b75",
   "metadata": {},
   "outputs": [],
   "source": [
    "class Biseccion():\n",
    "    \n",
    "    def __init__(self, function, *args):\n",
    "        self.f = function\n",
    "        self.df = pd.DataFrame(columns = ('a_i', 'b_i', 'x0', 'x1', 'p_i', 'condicion'))\n",
    "        \n",
    "    def f(self, x):\n",
    "        return self.f(x)\n",
    "    \n",
    "    def p(self):\n",
    "        return self.df.iloc[-1,:]['p_i']\n",
    "    \n",
    "    def biseccion(self, a, b, tolerancia, itmax = 100):\n",
    "        i = 0\n",
    "        a = a\n",
    "        b = b\n",
    "        x0, x1 = a, b\n",
    "        \n",
    "        if(self.f(a) * self.f(b) > 0):\n",
    "            print('El metodo no resuelve esta raiz')\n",
    "            return\n",
    "        \n",
    "        while (i < itmax) and (abs((x1-x0) / x1) >= tolerancia):\n",
    "            x0 = x1\n",
    "            x1 = (a + b) / 2\n",
    "            if (self.f(x1) * self.f(a)) > 0:\n",
    "                # Raiz entre [x0,b]\n",
    "                self.df.loc[i] = [a, b, x1, x0, x1, '>0']\n",
    "                a = x1\n",
    "            else:\n",
    "                self.df.loc[i] = [a, b, x1, x0, x1, '<0']\n",
    "                b = x1\n",
    "            i += 1\n",
    "        \n",
    "        error = abs((x1 - x0) / x1)\n",
    "        print(error)\n",
    "        print('El metodo de la biseccion convergió en ', i, ' iteraciones.')\n",
    "        return self.df"
   ]
  },
  {
   "cell_type": "code",
   "execution_count": 93,
   "id": "35878f5b",
   "metadata": {},
   "outputs": [
    {
     "name": "stdout",
     "output_type": "stream",
     "text": [
      "7.007814391473222e-16\n",
      "El metodo de la biseccion convergió en  51  iteraciones.\n"
     ]
    },
    {
     "data": {
      "text/plain": [
       "2.534822899364512"
      ]
     },
     "metadata": {},
     "output_type": "display_data"
    },
    {
     "data": {
      "text/plain": [
       "Text(0, 0.5, 'f(x)')"
      ]
     },
     "execution_count": 93,
     "metadata": {},
     "output_type": "execute_result"
    },
    {
     "data": {
      "image/png": "[encoded data removed]",
      "text/plain": [
       "<Figure size 576x432 with 1 Axes>"
      ]
     },
     "metadata": {
      "needs_background": "light"
     },
     "output_type": "display_data"
    }
   ],
   "source": [
    "def f(x):\n",
    "    return np.sin(x) - np.exp(-x / 2) + 1\n",
    "def f(x):\n",
    "    return (x+np.e**(x/2))*np.cos(x)+5\n",
    "\n",
    "a = 0\n",
    "b = 4\n",
    "tolerancia = 10**(-15)\n",
    "\n",
    "metodoBiseccion = Biseccion(f)\n",
    "datos = metodoBiseccion.biseccion(a, b, tolerancia)\n",
    "p = metodoBiseccion.p()\n",
    "\n",
    "#display(datos)\n",
    "display(p)\n",
    "\n",
    "plt.figure(figsize = [6 * 4/3,6])\n",
    "x = np.linspace(-1,5,100)\n",
    "plt.plot(x,f(x))\n",
    "plt.grid(True)\n",
    "plt.axhline(0, color = 'black')\n",
    "plt.axvline(a, color = 'red')\n",
    "plt.axvline(b, color = 'red')\n",
    "plt.scatter(p, 0, s = 100, color = 'green')\n",
    "plt.xlabel('x', fontsize = 20)\n",
    "plt.ylabel('f(x)', fontsize = 20)"
   ]
  }
 ],
 "metadata": {
  "kernelspec": {
   "display_name": "Python 3 (ipykernel)",
   "language": "python",
   "name": "python3"
  },
  "language_info": {
   "codemirror_mode": {
    "name": "ipython",
    "version": 3
   },
   "file_extension": ".py",
   "mimetype": "text/x-python",
   "name": "python",
   "nbconvert_exporter": "python",
   "pygments_lexer": "ipython3",
   "version": "3.7.11"
  }
 },
 "nbformat": 4,
 "nbformat_minor": 5
}
