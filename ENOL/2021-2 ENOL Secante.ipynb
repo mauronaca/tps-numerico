{
 "cells": [
  {
   "cell_type": "markdown",
   "metadata": {},
   "source": [
    "## Ejercicio para resolver - Secante\n",
    "Obtener la raiz de la siguiente función:<br>\n",
    "$$\n",
    "f(x) = sen(x)-e^{(-x/2)}+1\n",
    "$$\n",
    "En el intervalo [-1, 4], con una tolerancia de 10^(-3)<br>\n",
    "**Presentación:** Presentar las primeras 3 iteraciones en una hoja a mano y el desarrollo completo en Jupyter Notebook."
   ]
  },
  {
   "cell_type": "code",
   "execution_count": null,
   "metadata": {},
   "outputs": [],
   "source": []
  }
 ],
 "metadata": {
  "kernelspec": {
   "display_name": "Python 3",
   "language": "python",
   "name": "python3"
  },
  "language_info": {
   "codemirror_mode": {
    "name": "ipython",
    "version": 3
   },
   "file_extension": ".py",
   "mimetype": "text/x-python",
   "name": "python",
   "nbconvert_exporter": "python",
   "pygments_lexer": "ipython3",
   "version": "3.7.2"
  }
 },
 "nbformat": 4,
 "nbformat_minor": 5
}
